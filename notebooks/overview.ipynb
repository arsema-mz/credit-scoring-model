{
 "cells": [
  {
   "cell_type": "markdown",
   "id": "d0c1f034",
   "metadata": {},
   "source": [
    "| Column            | Description  | Unique Example Values           | Notes                                                   |\n",
    "| ----------------- | ------------ | ------------------------------- | ------------------------------------------------------- |\n",
    "| `transactionid`   | Unique ID    | `TransactionId_76871`           | ✅ **High-cardinality** → drop or label encode if needed |\n",
    "| `batchid`         | Batch ID     | `BatchId_36123`                 | Same as above                                           |\n",
    "| `accountid`       | Account      | `AccountId_3957`                | Similar                                                 |\n",
    "| `subscriptionid`  | Subscription | `SubscriptionId_887`            | Similar                                                 |\n",
    "| `customerid`      | Customer     | `CustomerId_4406`               | 🔁 Used in aggregation; don’t encode again              |\n",
    "| `currencycode`    | Currency     | `UGX`                           | ✅ One-hot encode (low cardinality)                      |\n",
    "| `countrycode`     | Country      | `256`                           | May be numeric; double-check dtype                      |\n",
    "| `providerid`      | Provider     | `ProviderId_6`                  | ✅ One-hot or label encode                               |\n",
    "| `productid`       | Product      | `ProductId_10`                  | Label encode if needed                                  |\n",
    "| `productcategory` | Type         | `airtime`, `utility_bill`, etc. | ✅ One-hot encode (important feature)                    |\n",
    "| `channelid`       | Channel      | `ChannelId_2`                   | ✅ One-hot or label encode                               |\n"
   ]
  },
  {
   "cell_type": "markdown",
   "id": "6685aef8",
   "metadata": {},
   "source": [
    "| Feature                                                   | Encoding Type                         |\n",
    "| --------------------------------------------------------- | ------------------------------------- |\n",
    "| `productcategory`                                         | ✅ One-Hot Encoding                    |\n",
    "| `currencycode`                                            | ✅ One-Hot Encoding                    |\n",
    "| `providerid`                                              | ⚠️ Label Encoding (or one-hot if few) |\n",
    "| `channelid`                                               | ⚠️ Label Encoding (or one-hot)        |\n",
    "| `productid`                                               | ⚠️ Label Encoding                     |\n",
    "| `transactionid`, `accountid`, `batchid`, `subscriptionid` | ❌ Drop or ignore (too unique)         |\n",
    "| `customerid`                                              | ❌ Already used for aggregation        |\n"
   ]
  }
 ],
 "metadata": {
  "language_info": {
   "name": "python"
  }
 },
 "nbformat": 4,
 "nbformat_minor": 5
}
